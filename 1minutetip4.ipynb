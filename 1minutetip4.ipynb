{
 "cells": [
  {
   "cell_type": "markdown",
   "metadata": {},
   "source": [
    "### Download CSV from AWS S3 and Plot"
   ]
  },
  {
   "cell_type": "code",
   "execution_count": 3,
   "metadata": {},
   "outputs": [],
   "source": [
    "import boto3\n",
    "resource = boto3.resource(\"s3\")\n",
    "resource.meta.client.download_file('testntest', 'nba_2017_endorsement_full_stats.csv',\n",
    "'/tmp/nba_2017_endorsement_full_stats.csv')"
   ]
  },
  {
   "cell_type": "code",
   "execution_count": 4,
   "metadata": {},
   "outputs": [
    {
     "name": "stdout",
     "output_type": "stream",
     "text": [
      "-rw-rw-r-- 1 ec2-user ec2-user 1447 Aug 18 18:18 /tmp/nba_2017_endorsement_full_stats.csv\r\n"
     ]
    }
   ],
   "source": [
    "!ls -l /tmp/nba_2017_endorsement_full_stats.csv"
   ]
  },
  {
   "cell_type": "code",
   "execution_count": 5,
   "metadata": {},
   "outputs": [],
   "source": [
    "import pandas as pd"
   ]
  },
  {
   "cell_type": "code",
   "execution_count": 6,
   "metadata": {},
   "outputs": [
    {
     "data": {
      "text/html": [
       "<div>\n",
       "<style scoped>\n",
       "    .dataframe tbody tr th:only-of-type {\n",
       "        vertical-align: middle;\n",
       "    }\n",
       "\n",
       "    .dataframe tbody tr th {\n",
       "        vertical-align: top;\n",
       "    }\n",
       "\n",
       "    .dataframe thead th {\n",
       "        text-align: right;\n",
       "    }\n",
       "</style>\n",
       "<table border=\"1\" class=\"dataframe\">\n",
       "  <thead>\n",
       "    <tr style=\"text-align: right;\">\n",
       "      <th></th>\n",
       "      <th>PLAYER</th>\n",
       "      <th>TEAM</th>\n",
       "      <th>SALARY_MILLIONS</th>\n",
       "      <th>ENDORSEMENT_MILLIONS</th>\n",
       "      <th>PCT_ATTENDANCE_STADIUM</th>\n",
       "      <th>ATTENDANCE_TOTAL_BY_10K</th>\n",
       "      <th>FRANCHISE_VALUE_100_MILLION</th>\n",
       "      <th>ELO_100X</th>\n",
       "      <th>CONF</th>\n",
       "      <th>POSITION</th>\n",
       "      <th>AGE</th>\n",
       "      <th>MP</th>\n",
       "      <th>GP</th>\n",
       "      <th>MPG</th>\n",
       "      <th>WINS_RPM</th>\n",
       "      <th>PLAYER_TEAM_WINS</th>\n",
       "      <th>WIKIPEDIA_PAGEVIEWS_10K</th>\n",
       "      <th>TWITTER_FAVORITE_COUNT_1K</th>\n",
       "    </tr>\n",
       "  </thead>\n",
       "  <tbody>\n",
       "    <tr>\n",
       "      <th>0</th>\n",
       "      <td>LeBron James</td>\n",
       "      <td>Cleveland Cavaliers</td>\n",
       "      <td>30.96</td>\n",
       "      <td>55.0</td>\n",
       "      <td>100.0</td>\n",
       "      <td>84.0</td>\n",
       "      <td>12.00</td>\n",
       "      <td>15.45</td>\n",
       "      <td>East</td>\n",
       "      <td>SF</td>\n",
       "      <td>32</td>\n",
       "      <td>37.8</td>\n",
       "      <td>74.0</td>\n",
       "      <td>37.8</td>\n",
       "      <td>20.43</td>\n",
       "      <td>51.0</td>\n",
       "      <td>14.70</td>\n",
       "      <td>5.53</td>\n",
       "    </tr>\n",
       "    <tr>\n",
       "      <th>1</th>\n",
       "      <td>Kevin Durant</td>\n",
       "      <td>Golden State Warriors</td>\n",
       "      <td>26.50</td>\n",
       "      <td>36.0</td>\n",
       "      <td>100.0</td>\n",
       "      <td>80.0</td>\n",
       "      <td>26.00</td>\n",
       "      <td>17.70</td>\n",
       "      <td>West</td>\n",
       "      <td>SF</td>\n",
       "      <td>28</td>\n",
       "      <td>33.4</td>\n",
       "      <td>62.0</td>\n",
       "      <td>33.4</td>\n",
       "      <td>12.24</td>\n",
       "      <td>51.0</td>\n",
       "      <td>6.29</td>\n",
       "      <td>1.43</td>\n",
       "    </tr>\n",
       "    <tr>\n",
       "      <th>2</th>\n",
       "      <td>James Harden</td>\n",
       "      <td>Houston Rockets</td>\n",
       "      <td>26.50</td>\n",
       "      <td>20.0</td>\n",
       "      <td>94.0</td>\n",
       "      <td>70.0</td>\n",
       "      <td>16.50</td>\n",
       "      <td>16.02</td>\n",
       "      <td>West</td>\n",
       "      <td>PG</td>\n",
       "      <td>27</td>\n",
       "      <td>36.4</td>\n",
       "      <td>81.0</td>\n",
       "      <td>36.4</td>\n",
       "      <td>15.54</td>\n",
       "      <td>54.0</td>\n",
       "      <td>3.28</td>\n",
       "      <td>0.97</td>\n",
       "    </tr>\n",
       "    <tr>\n",
       "      <th>3</th>\n",
       "      <td>Russell Westbrook</td>\n",
       "      <td>Oklahoma City Thunder</td>\n",
       "      <td>26.50</td>\n",
       "      <td>15.0</td>\n",
       "      <td>100.0</td>\n",
       "      <td>75.0</td>\n",
       "      <td>10.25</td>\n",
       "      <td>15.43</td>\n",
       "      <td>West</td>\n",
       "      <td>PG</td>\n",
       "      <td>28</td>\n",
       "      <td>34.6</td>\n",
       "      <td>81.0</td>\n",
       "      <td>34.6</td>\n",
       "      <td>17.34</td>\n",
       "      <td>46.0</td>\n",
       "      <td>4.28</td>\n",
       "      <td>2.13</td>\n",
       "    </tr>\n",
       "    <tr>\n",
       "      <th>4</th>\n",
       "      <td>Carmelo Anthony</td>\n",
       "      <td>New York Knicks</td>\n",
       "      <td>24.56</td>\n",
       "      <td>8.0</td>\n",
       "      <td>100.0</td>\n",
       "      <td>81.0</td>\n",
       "      <td>33.00</td>\n",
       "      <td>13.74</td>\n",
       "      <td>East</td>\n",
       "      <td>SF</td>\n",
       "      <td>32</td>\n",
       "      <td>34.3</td>\n",
       "      <td>74.0</td>\n",
       "      <td>34.3</td>\n",
       "      <td>5.26</td>\n",
       "      <td>29.0</td>\n",
       "      <td>3.77</td>\n",
       "      <td>0.72</td>\n",
       "    </tr>\n",
       "  </tbody>\n",
       "</table>\n",
       "</div>"
      ],
      "text/plain": [
       "              PLAYER                   TEAM  SALARY_MILLIONS  \\\n",
       "0       LeBron James    Cleveland Cavaliers            30.96   \n",
       "1       Kevin Durant  Golden State Warriors            26.50   \n",
       "2       James Harden        Houston Rockets            26.50   \n",
       "3  Russell Westbrook  Oklahoma City Thunder            26.50   \n",
       "4    Carmelo Anthony        New York Knicks            24.56   \n",
       "\n",
       "   ENDORSEMENT_MILLIONS  PCT_ATTENDANCE_STADIUM  ATTENDANCE_TOTAL_BY_10K  \\\n",
       "0                  55.0                   100.0                     84.0   \n",
       "1                  36.0                   100.0                     80.0   \n",
       "2                  20.0                    94.0                     70.0   \n",
       "3                  15.0                   100.0                     75.0   \n",
       "4                   8.0                   100.0                     81.0   \n",
       "\n",
       "   FRANCHISE_VALUE_100_MILLION  ELO_100X  CONF POSITION  AGE    MP    GP  \\\n",
       "0                        12.00     15.45  East       SF   32  37.8  74.0   \n",
       "1                        26.00     17.70  West       SF   28  33.4  62.0   \n",
       "2                        16.50     16.02  West       PG   27  36.4  81.0   \n",
       "3                        10.25     15.43  West       PG   28  34.6  81.0   \n",
       "4                        33.00     13.74  East       SF   32  34.3  74.0   \n",
       "\n",
       "    MPG  WINS_RPM  PLAYER_TEAM_WINS  WIKIPEDIA_PAGEVIEWS_10K  \\\n",
       "0  37.8     20.43              51.0                    14.70   \n",
       "1  33.4     12.24              51.0                     6.29   \n",
       "2  36.4     15.54              54.0                     3.28   \n",
       "3  34.6     17.34              46.0                     4.28   \n",
       "4  34.3      5.26              29.0                     3.77   \n",
       "\n",
       "   TWITTER_FAVORITE_COUNT_1K  \n",
       "0                       5.53  \n",
       "1                       1.43  \n",
       "2                       0.97  \n",
       "3                       2.13  \n",
       "4                       0.72  "
      ]
     },
     "execution_count": 6,
     "metadata": {},
     "output_type": "execute_result"
    }
   ],
   "source": [
    "df = pd.read_csv('/tmp/nba_2017_endorsement_full_stats.csv')\n",
    "df.head()"
   ]
  },
  {
   "cell_type": "code",
   "execution_count": 7,
   "metadata": {},
   "outputs": [
    {
     "data": {
      "text/plain": [
       "<seaborn.axisgrid.FacetGrid at 0x7fee71f4d898>"
      ]
     },
     "execution_count": 7,
     "metadata": {},
     "output_type": "execute_result"
    },
    {
     "data": {
      "image/png": "[encoded data removed]",
      "text/plain": [
       "<Figure size 360x360 with 1 Axes>"
      ]
     },
     "metadata": {},
     "output_type": "display_data"
    }
   ],
   "source": [
    "%matplotlib inline\n",
    "import seaborn as sns\n",
    "sns.lmplot(x=\"SALARY_MILLIONS\", y=\"ENDORSEMENT_MILLIONS\",data=df)"
   ]
  },
  {
   "cell_type": "code",
   "execution_count": 8,
   "metadata": {},
   "outputs": [
    {
     "name": "stdout",
     "output_type": "stream",
     "text": [
      "Collecting plotly\n",
      "\u001b[?25l  Downloading https://files.pythonhosted.org/packages/38/b0/86f6d2443a64be0e30543065c6839d0e033a41ffb7fa4ad0760ae9c3b534/plotly-3.1.1-py2.py3-none-any.whl (36.9MB)\n",
      "\u001b[K    100% |████████████████████████████████| 36.9MB 1.4MB/s eta 0:00:01\n",
      "\u001b[?25hRequirement already satisfied: nbformat>=4.2 in /home/ec2-user/anaconda3/envs/python3/lib/python3.6/site-packages (from plotly) (4.4.0)\n",
      "Requirement already satisfied: six in /home/ec2-user/anaconda3/envs/python3/lib/python3.6/site-packages (from plotly) (1.11.0)\n",
      "Collecting retrying>=1.3.3 (from plotly)\n",
      "  Downloading https://files.pythonhosted.org/packages/44/ef/beae4b4ef80902f22e3af073397f079c96969c69b2c7d52a57ea9ae61c9d/retrying-1.3.3.tar.gz\n",
      "Requirement already satisfied: requests in /home/ec2-user/anaconda3/envs/python3/lib/python3.6/site-packages (from plotly) (2.18.4)\n",
      "Requirement already satisfied: decorator>=4.0.6 in /home/ec2-user/anaconda3/envs/python3/lib/python3.6/site-packages (from plotly) (4.3.0)\n",
      "Requirement already satisfied: pytz in /home/ec2-user/anaconda3/envs/python3/lib/python3.6/site-packages (from plotly) (2018.4)\n",
      "Requirement already satisfied: ipython_genutils in /home/ec2-user/anaconda3/envs/python3/lib/python3.6/site-packages (from nbformat>=4.2->plotly) (0.2.0)\n",
      "Requirement already satisfied: traitlets>=4.1 in /home/ec2-user/anaconda3/envs/python3/lib/python3.6/site-packages (from nbformat>=4.2->plotly) (4.3.2)\n",
      "Requirement already satisfied: jsonschema!=2.5.0,>=2.4 in /home/ec2-user/anaconda3/envs/python3/lib/python3.6/site-packages (from nbformat>=4.2->plotly) (2.6.0)\n",
      "Requirement already satisfied: jupyter_core in /home/ec2-user/anaconda3/envs/python3/lib/python3.6/site-packages (from nbformat>=4.2->plotly) (4.4.0)\n",
      "Requirement already satisfied: chardet<3.1.0,>=3.0.2 in /home/ec2-user/anaconda3/envs/python3/lib/python3.6/site-packages (from requests->plotly) (3.0.4)\n",
      "Requirement already satisfied: idna<2.7,>=2.5 in /home/ec2-user/anaconda3/envs/python3/lib/python3.6/site-packages (from requests->plotly) (2.6)\n",
      "Requirement already satisfied: urllib3<1.23,>=1.21.1 in /home/ec2-user/anaconda3/envs/python3/lib/python3.6/site-packages (from requests->plotly) (1.22)\n",
      "Requirement already satisfied: certifi>=2017.4.17 in /home/ec2-user/anaconda3/envs/python3/lib/python3.6/site-packages (from requests->plotly) (2018.4.16)\n",
      "Building wheels for collected packages: retrying\n",
      "  Running setup.py bdist_wheel for retrying ... \u001b[?25ldone\n",
      "\u001b[?25h  Stored in directory: /home/ec2-user/.cache/pip/wheels/d7/a9/33/acc7b709e2a35caa7d4cae442f6fe6fbf2c43f80823d46460c\n",
      "Successfully built retrying\n",
      "\u001b[31mdistributed 1.21.8 requires msgpack, which is not installed.\u001b[0m\n",
      "Installing collected packages: retrying, plotly\n",
      "Successfully installed plotly-3.1.1 retrying-1.3.3\n",
      "\u001b[33mYou are using pip version 10.0.1, however version 18.0 is available.\n",
      "You should consider upgrading via the 'pip install --upgrade pip' command.\u001b[0m\n"
     ]
    }
   ],
   "source": [
    "!pip install plotly"
   ]
  },
  {
   "cell_type": "code",
   "execution_count": null,
   "metadata": {},
   "outputs": [],
   "source": []
  }
 ],
 "metadata": {
  "kernelspec": {
   "display_name": "conda_python3",
   "language": "python",
   "name": "conda_python3"
  },
  "language_info": {
   "codemirror_mode": {
    "name": "ipython",
    "version": 3
   },
   "file_extension": ".py",
   "mimetype": "text/x-python",
   "name": "python",
   "nbconvert_exporter": "python",
   "pygments_lexer": "ipython3",
   "version": "3.6.4"
  }
 },
 "nbformat": 4,
 "nbformat_minor": 2
}
