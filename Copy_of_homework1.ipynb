{
  "nbformat": 4,
  "nbformat_minor": 0,
  "metadata": {
    "colab": {
      "name": "Copy of homework1.ipynb",
      "provenance": [],
      "include_colab_link": true
    },
    "kernelspec": {
      "name": "python3",
      "display_name": "Python 3"
    },
    "accelerator": "GPU"
  },
  "cells": [
    {
      "cell_type": "markdown",
      "metadata": {
        "id": "view-in-github",
        "colab_type": "text"
      },
      "source": [
        "<a href=\"https://colab.research.google.com/github/noahgift/1minutetip/blob/master/Copy_of_homework1.ipynb\" target=\"_parent\"><img src=\"https://colab.research.google.com/assets/colab-badge.svg\" alt=\"Open In Colab\"/></a>"
      ]
    },
    {
      "cell_type": "markdown",
      "metadata": {
        "id": "b6DEZ6u74xcD",
        "colab_type": "text"
      },
      "source": [
        "## Ingest"
      ]
    },
    {
      "cell_type": "markdown",
      "metadata": {
        "id": "F-s1qTf-4y_j",
        "colab_type": "text"
      },
      "source": [
        ""
      ]
    },
    {
      "cell_type": "markdown",
      "metadata": {
        "id": "fJKiWCWx4zCL",
        "colab_type": "text"
      },
      "source": [
        "## EDA"
      ]
    },
    {
      "cell_type": "markdown",
      "metadata": {
        "id": "juMtoN7740-l",
        "colab_type": "text"
      },
      "source": [
        ""
      ]
    },
    {
      "cell_type": "markdown",
      "metadata": {
        "id": "hwuKk9YI41A5",
        "colab_type": "text"
      },
      "source": [
        "## Modeling"
      ]
    },
    {
      "cell_type": "markdown",
      "metadata": {
        "id": "0-kvzwbI42fq",
        "colab_type": "text"
      },
      "source": [
        "maybe use tensorflow"
      ]
    },
    {
      "cell_type": "markdown",
      "metadata": {
        "id": "BbDa-El042ig",
        "colab_type": "text"
      },
      "source": [
        "## Conclusion"
      ]
    },
    {
      "cell_type": "markdown",
      "metadata": {
        "id": "-CpH7d5h44hD",
        "colab_type": "text"
      },
      "source": [
        "[pdf](https:// [link text](https://))"
      ]
    },
    {
      "cell_type": "code",
      "metadata": {
        "id": "TX2IOccA43tq",
        "colab_type": "code",
        "colab": {}
      },
      "source": [
        ""
      ],
      "execution_count": 0,
      "outputs": []
    }
  ]
}