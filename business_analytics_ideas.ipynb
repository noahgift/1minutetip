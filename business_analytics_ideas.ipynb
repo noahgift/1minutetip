{
  "nbformat": 4,
  "nbformat_minor": 0,
  "metadata": {
    "colab": {
      "name": "business-analytics-ideas.ipynb",
      "provenance": [],
      "authorship_tag": "ABX9TyOlZV8QnXfiXiFnXfQ9aD2x",
      "include_colab_link": true
    },
    "kernelspec": {
      "name": "python3",
      "display_name": "Python 3"
    }
  },
  "cells": [
    {
      "cell_type": "markdown",
      "metadata": {
        "id": "view-in-github",
        "colab_type": "text"
      },
      "source": [
        "<a href=\"https://colab.research.google.com/github/noahgift/1minutetip/blob/master/business_analytics_ideas.ipynb\" target=\"_parent\"><img src=\"https://colab.research.google.com/assets/colab-badge.svg\" alt=\"Open In Colab\"/></a>"
      ]
    },
    {
      "cell_type": "markdown",
      "metadata": {
        "id": "dIhBtxCQGa7x",
        "colab_type": "text"
      },
      "source": [
        "## Business Analytics"
      ]
    },
    {
      "cell_type": "markdown",
      "metadata": {
        "id": "fIVZmdIgGdzS",
        "colab_type": "text"
      },
      "source": [
        ""
      ]
    },
    {
      "cell_type": "markdown",
      "metadata": {
        "id": "ZhxXO1ZQGd2t",
        "colab_type": "text"
      },
      "source": [
        "## Ingest"
      ]
    },
    {
      "cell_type": "markdown",
      "metadata": {
        "id": "bBKKoa-IGd9Z",
        "colab_type": "text"
      },
      "source": [
        "### Text Explorations"
      ]
    },
    {
      "cell_type": "markdown",
      "metadata": {
        "id": "HdgMe3ntHWk_",
        "colab_type": "text"
      },
      "source": [
        "![Screen Shot 2020-08-29 at 8 06 53 AM](https://user-images.githubusercontent.com/58792/91636456-9e80d700-e9ce-11ea-9247-2360c792077a.png)\n"
      ]
    },
    {
      "cell_type": "markdown",
      "metadata": {
        "id": "wqHgApM0GguT",
        "colab_type": "text"
      },
      "source": [
        "## EDA"
      ]
    },
    {
      "cell_type": "markdown",
      "metadata": {
        "id": "TClgBCIgGkoP",
        "colab_type": "text"
      },
      "source": [
        "![Screen Shot 2020-08-29 at 8 02 35 AM](https://user-images.githubusercontent.com/58792/91636382-08e54780-e9ce-11ea-92ff-9b667e2466e8.png)"
      ]
    },
    {
      "cell_type": "code",
      "metadata": {
        "id": "IZFayINPGakC",
        "colab_type": "code",
        "colab": {}
      },
      "source": [
        ""
      ],
      "execution_count": null,
      "outputs": []
    },
    {
      "cell_type": "markdown",
      "metadata": {
        "id": "ETQfqHmVGiZx",
        "colab_type": "text"
      },
      "source": [
        ""
      ]
    },
    {
      "cell_type": "markdown",
      "metadata": {
        "id": "pzaaCBe1Gicv",
        "colab_type": "text"
      },
      "source": [
        "## Conclusion"
      ]
    },
    {
      "cell_type": "code",
      "metadata": {
        "id": "nc8FqrrWGjfy",
        "colab_type": "code",
        "colab": {}
      },
      "source": [
        ""
      ],
      "execution_count": null,
      "outputs": []
    }
  ]
}