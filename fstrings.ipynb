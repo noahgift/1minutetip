{
  "nbformat": 4,
  "nbformat_minor": 0,
  "metadata": {
    "colab": {
      "name": "fstrings.ipynb",
      "version": "0.3.2",
      "views": {},
      "default_view": {},
      "provenance": []
    },
    "kernelspec": {
      "name": "python3",
      "display_name": "Python 3"
    }
  },
  "cells": [
    {
      "metadata": {
        "id": "7MfBBBQaKOcM",
        "colab_type": "text"
      },
      "cell_type": "markdown",
      "source": [
        "# 1Minute Tip:  String Formating in Python 3\n"
      ]
    },
    {
      "metadata": {
        "id": "QScJVA-0KB4H",
        "colab_type": "text"
      },
      "cell_type": "markdown",
      "source": [
        "## String Concatenation\n"
      ]
    },
    {
      "metadata": {
        "id": "qGAd6tLsJ5k3",
        "colab_type": "code",
        "colab": {
          "autoexec": {
            "startup": false,
            "wait_interval": 0
          }
        }
      },
      "cell_type": "code",
      "source": [
        "martial_art = \"Brazilian Jiu Jitsu\""
      ],
      "execution_count": 0,
      "outputs": []
    },
    {
      "metadata": {
        "id": "WugRRFzGKeWn",
        "colab_type": "code",
        "colab": {
          "autoexec": {
            "startup": false,
            "wait_interval": 0
          },
          "base_uri": "https://localhost:8080/",
          "height": 35
        },
        "outputId": "13bb300f-e688-4b2d-8667-3a29d4098a6a",
        "executionInfo": {
          "status": "ok",
          "timestamp": 1533423775324,
          "user_tz": 420,
          "elapsed": 318,
          "user": {
            "displayName": "Noah Gift",
            "photoUrl": "//lh4.googleusercontent.com/-yG22xQAMtTs/AAAAAAAAAAI/AAAAAAAAAE4/3SaWUlnM4Js/s50-c-k-no/photo.jpg",
            "userId": "106004732391540437280"
          }
        }
      },
      "cell_type": "code",
      "source": [
        "print(\"My favorite Martial Art is \" + martial_art)"
      ],
      "execution_count": 2,
      "outputs": [
        {
          "output_type": "stream",
          "text": [
            "My favorite Martial Art is Brazilian Jiu Jitsu\n"
          ],
          "name": "stdout"
        }
      ]
    },
    {
      "metadata": {
        "id": "grxkaoTWLhfM",
        "colab_type": "code",
        "colab": {
          "autoexec": {
            "startup": false,
            "wait_interval": 0
          },
          "base_uri": "https://localhost:8080/",
          "height": 72
        },
        "outputId": "02e7da4f-4e96-473b-97d3-09da5f4fb86e",
        "executionInfo": {
          "status": "ok",
          "timestamp": 1533423895199,
          "user_tz": 420,
          "elapsed": 3223,
          "user": {
            "displayName": "Noah Gift",
            "photoUrl": "//lh4.googleusercontent.com/-yG22xQAMtTs/AAAAAAAAAAI/AAAAAAAAAE4/3SaWUlnM4Js/s50-c-k-no/photo.jpg",
            "userId": "106004732391540437280"
          }
        }
      },
      "cell_type": "code",
      "source": [
        "%timeit \"My favorite Martial Art is \" + martial_art\n"
      ],
      "execution_count": 6,
      "outputs": [
        {
          "output_type": "stream",
          "text": [
            "The slowest run took 22.53 times longer than the fastest. This could mean that an intermediate result is being cached.\n",
            "10000000 loops, best of 3: 71.1 ns per loop\n"
          ],
          "name": "stdout"
        }
      ]
    },
    {
      "metadata": {
        "id": "oLzcT25UKn1L",
        "colab_type": "text"
      },
      "cell_type": "markdown",
      "source": [
        "## Using %s"
      ]
    },
    {
      "metadata": {
        "id": "KsOm8JbnMH-t",
        "colab_type": "code",
        "colab": {
          "autoexec": {
            "startup": false,
            "wait_interval": 0
          }
        }
      },
      "cell_type": "code",
      "source": [
        "martial_art = \"Brazilian Jiu Jitsu\""
      ],
      "execution_count": 0,
      "outputs": []
    },
    {
      "metadata": {
        "id": "F1C_osFiMNWl",
        "colab_type": "code",
        "colab": {
          "autoexec": {
            "startup": false,
            "wait_interval": 0
          },
          "base_uri": "https://localhost:8080/",
          "height": 35
        },
        "outputId": "ce471160-26d1-4d37-a4a2-2c5b585f6958",
        "executionInfo": {
          "status": "ok",
          "timestamp": 1533424000039,
          "user_tz": 420,
          "elapsed": 311,
          "user": {
            "displayName": "Noah Gift",
            "photoUrl": "//lh4.googleusercontent.com/-yG22xQAMtTs/AAAAAAAAAAI/AAAAAAAAAE4/3SaWUlnM4Js/s50-c-k-no/photo.jpg",
            "userId": "106004732391540437280"
          }
        }
      },
      "cell_type": "code",
      "source": [
        "print(\"My favorite Martial Art is: %s\" % martial_art)"
      ],
      "execution_count": 8,
      "outputs": [
        {
          "output_type": "stream",
          "text": [
            "My favorite Martial Art is: Brazilian Jiu Jitsu\n"
          ],
          "name": "stdout"
        }
      ]
    },
    {
      "metadata": {
        "id": "G-HJrNnaMWAS",
        "colab_type": "code",
        "colab": {
          "autoexec": {
            "startup": false,
            "wait_interval": 0
          },
          "base_uri": "https://localhost:8080/",
          "height": 72
        },
        "outputId": "5ef04463-0ff0-4a41-9a9e-47396399f19a",
        "executionInfo": {
          "status": "ok",
          "timestamp": 1533424015318,
          "user_tz": 420,
          "elapsed": 7635,
          "user": {
            "displayName": "Noah Gift",
            "photoUrl": "//lh4.googleusercontent.com/-yG22xQAMtTs/AAAAAAAAAAI/AAAAAAAAAE4/3SaWUlnM4Js/s50-c-k-no/photo.jpg",
            "userId": "106004732391540437280"
          }
        }
      },
      "cell_type": "code",
      "source": [
        "%timeit \"My favorite Martial Art is: %s\" % martial_art"
      ],
      "execution_count": 9,
      "outputs": [
        {
          "output_type": "stream",
          "text": [
            "The slowest run took 10.40 times longer than the fastest. This could mean that an intermediate result is being cached.\n",
            "10000000 loops, best of 3: 176 ns per loop\n"
          ],
          "name": "stdout"
        }
      ]
    },
    {
      "metadata": {
        "id": "GoGab4sEMnx3",
        "colab_type": "text"
      },
      "cell_type": "markdown",
      "source": [
        "## Using f-strings"
      ]
    },
    {
      "metadata": {
        "id": "ilZSDW2mMpqA",
        "colab_type": "code",
        "colab": {
          "autoexec": {
            "startup": false,
            "wait_interval": 0
          }
        }
      },
      "cell_type": "code",
      "source": [
        "martial_art = \"Brazilian Jiu Jitsu\""
      ],
      "execution_count": 0,
      "outputs": []
    },
    {
      "metadata": {
        "id": "_Fh-gANuMq0f",
        "colab_type": "code",
        "colab": {
          "autoexec": {
            "startup": false,
            "wait_interval": 0
          },
          "base_uri": "https://localhost:8080/",
          "height": 35
        },
        "outputId": "a33cd123-cbea-4830-c57a-829d4349fd04",
        "executionInfo": {
          "status": "ok",
          "timestamp": 1533424130366,
          "user_tz": 420,
          "elapsed": 276,
          "user": {
            "displayName": "Noah Gift",
            "photoUrl": "//lh4.googleusercontent.com/-yG22xQAMtTs/AAAAAAAAAAI/AAAAAAAAAE4/3SaWUlnM4Js/s50-c-k-no/photo.jpg",
            "userId": "106004732391540437280"
          }
        }
      },
      "cell_type": "code",
      "source": [
        "print(f\"My favorite Martial Art is {martial_art}\")"
      ],
      "execution_count": 13,
      "outputs": [
        {
          "output_type": "stream",
          "text": [
            "My favorite Martial Art is Brazilian Jiu Jitsu\n"
          ],
          "name": "stdout"
        }
      ]
    },
    {
      "metadata": {
        "id": "d6jgpNGPMzzf",
        "colab_type": "code",
        "colab": {
          "autoexec": {
            "startup": false,
            "wait_interval": 0
          },
          "base_uri": "https://localhost:8080/",
          "height": 35
        },
        "outputId": "b5fb7850-d6ec-4fd2-827e-20c252313c0f",
        "executionInfo": {
          "status": "ok",
          "timestamp": 1533424147816,
          "user_tz": 420,
          "elapsed": 5042,
          "user": {
            "displayName": "Noah Gift",
            "photoUrl": "//lh4.googleusercontent.com/-yG22xQAMtTs/AAAAAAAAAAI/AAAAAAAAAE4/3SaWUlnM4Js/s50-c-k-no/photo.jpg",
            "userId": "106004732391540437280"
          }
        }
      },
      "cell_type": "code",
      "source": [
        "%timeit f\"My favorite Martial Art is {martial_art}\""
      ],
      "execution_count": 14,
      "outputs": [
        {
          "output_type": "stream",
          "text": [
            "100000000 loops, best of 3: 11.4 ns per loop\n"
          ],
          "name": "stdout"
        }
      ]
    }
  ]
}