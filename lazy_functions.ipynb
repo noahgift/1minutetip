{
  "nbformat": 4,
  "nbformat_minor": 0,
  "metadata": {
    "colab": {
      "name": "lazy_functions.ipynb",
      "version": "0.3.2",
      "provenance": [],
      "collapsed_sections": []
    },
    "kernelspec": {
      "name": "python3",
      "display_name": "Python 3"
    }
  },
  "cells": [
    {
      "metadata": {
        "id": "7MfBBBQaKOcM",
        "colab_type": "text"
      },
      "cell_type": "markdown",
      "source": [
        "# 1Minute Tip:  Lazy Functions in Python 3\n"
      ]
    },
    {
      "metadata": {
        "id": "oLzcT25UKn1L",
        "colab_type": "text"
      },
      "cell_type": "markdown",
      "source": [
        "## Writing Lazy Functions\n"
      ]
    },
    {
      "metadata": {
        "id": "DZvJI4wA4dw3",
        "colab_type": "code",
        "colab": {}
      },
      "cell_type": "code",
      "source": [
        "def aggressive_fighter():\n",
        "  \"\"\"Creates instant random attacks\"\"\"\n",
        "  \n",
        "  import random\n",
        "  attacks = [\"jab\", \"hook\", \"uppercut\",\n",
        "             \"takedown\", \"clinch\", \"Thai roundhouse\", \"rear naked choke\"]\n",
        "  for attack in attacks:\n",
        "    print(random.choices(attacks).pop())\n",
        "    \n",
        " "
      ],
      "execution_count": 0,
      "outputs": []
    },
    {
      "metadata": {
        "id": "WdRbVj5z3EmZ",
        "colab_type": "code",
        "colab": {}
      },
      "cell_type": "code",
      "source": [
        "def lazy_fighter():\n",
        "  \"\"\"Creates infinite random lazy attacks\"\"\"\n",
        "  \n",
        "  import random\n",
        "  attacks = [\"jab\", \"hook\", \"uppercut\",\n",
        "             \"takedown\", \"clinch\", \"Thai roundhouse\", \"rear naked choke\"]\n",
        "  while True:\n",
        "    random_attack = random.choices(attacks).pop()\n",
        "    yield random_attack\n",
        "  "
      ],
      "execution_count": 0,
      "outputs": []
    },
    {
      "metadata": {
        "id": "czMPhrjr4-pW",
        "colab_type": "code",
        "colab": {
          "base_uri": "https://localhost:8080/",
          "height": 136
        },
        "outputId": "91102c03-11ea-4939-a4e3-00925d4c37db"
      },
      "cell_type": "code",
      "source": [
        "aggressive_fighter()"
      ],
      "execution_count": 30,
      "outputs": [
        {
          "output_type": "stream",
          "text": [
            "jab\n",
            "clinch\n",
            "uppercut\n",
            "takedown\n",
            "Thai roundhouse\n",
            "clinch\n",
            "uppercut\n"
          ],
          "name": "stdout"
        }
      ]
    },
    {
      "metadata": {
        "id": "2eWUjPno5CKf",
        "colab_type": "code",
        "colab": {}
      },
      "cell_type": "code",
      "source": [
        "attack = lazy_fighter()"
      ],
      "execution_count": 0,
      "outputs": []
    },
    {
      "metadata": {
        "id": "xqbP1tJ55g1g",
        "colab_type": "code",
        "colab": {
          "base_uri": "https://localhost:8080/",
          "height": 34
        },
        "outputId": "4763e432-8e57-44d4-a149-210459fb4e7e"
      },
      "cell_type": "code",
      "source": [
        "type(attack)"
      ],
      "execution_count": 32,
      "outputs": [
        {
          "output_type": "execute_result",
          "data": {
            "text/plain": [
              "generator"
            ]
          },
          "metadata": {
            "tags": []
          },
          "execution_count": 32
        }
      ]
    },
    {
      "metadata": {
        "id": "k3oUtGgi7R37",
        "colab_type": "code",
        "colab": {
          "base_uri": "https://localhost:8080/",
          "height": 34
        },
        "outputId": "05d16d79-f89c-4df7-c447-2fe0653f9dfa"
      },
      "cell_type": "code",
      "source": [
        "next(attack)"
      ],
      "execution_count": 33,
      "outputs": [
        {
          "output_type": "execute_result",
          "data": {
            "text/plain": [
              "'clinch'"
            ]
          },
          "metadata": {
            "tags": []
          },
          "execution_count": 33
        }
      ]
    },
    {
      "metadata": {
        "id": "8QWyQhCy5lRQ",
        "colab_type": "code",
        "colab": {
          "base_uri": "https://localhost:8080/",
          "height": 187
        },
        "outputId": "53f2daa7-2221-402b-efb3-2b1b51098480"
      },
      "cell_type": "code",
      "source": [
        "for i in range(10):\n",
        "  print(next(attack))"
      ],
      "execution_count": 34,
      "outputs": [
        {
          "output_type": "stream",
          "text": [
            "jab\n",
            "jab\n",
            "rear naked choke\n",
            "rear naked choke\n",
            "Thai roundhouse\n",
            "uppercut\n",
            "clinch\n",
            "uppercut\n",
            "clinch\n",
            "jab\n"
          ],
          "name": "stdout"
        }
      ]
    },
    {
      "metadata": {
        "id": "MaSwTS_P5ovq",
        "colab_type": "code",
        "colab": {}
      },
      "cell_type": "code",
      "source": [
        ""
      ],
      "execution_count": 0,
      "outputs": []
    }
  ]
}