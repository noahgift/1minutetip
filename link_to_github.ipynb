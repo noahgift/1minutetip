{
  "nbformat": 4,
  "nbformat_minor": 0,
  "metadata": {
    "colab": {
      "name": "link_to_github.ipynb",
      "version": "0.3.2",
      "provenance": [],
      "include_colab_link": true
    },
    "kernelspec": {
      "name": "python3",
      "display_name": "Python 3"
    }
  },
  "cells": [
    {
      "cell_type": "markdown",
      "metadata": {
        "id": "view-in-github",
        "colab_type": "text"
      },
      "source": [
        "<a href=\"https://colab.research.google.com/github/noahgift/1minutetip/blob/master/link_to_github.ipynb\" target=\"_parent\"><img src=\"https://colab.research.google.com/assets/colab-badge.svg\" alt=\"Open In Colab\"/></a>"
      ]
    },
    {
      "metadata": {
        "id": "w1Wh_2HjaA9X",
        "colab_type": "code",
        "colab": {}
      },
      "cell_type": "code",
      "source": [
        "import pandas as pd\n",
        "\n",
        "df = pd.read_csv(\"https://raw.githubusercontent.com/plotly/datasets/master/1962_2006_walmart_store_openings.csv\")"
      ],
      "execution_count": 0,
      "outputs": []
    },
    {
      "metadata": {
        "id": "IIlzcmS5aHOF",
        "colab_type": "code",
        "colab": {
          "base_uri": "https://localhost:8080/",
          "height": 314
        },
        "outputId": "3dcdb886-6e26-48c7-aeba-b840e7bd9858"
      },
      "cell_type": "code",
      "source": [
        "df.describe()"
      ],
      "execution_count": 2,
      "outputs": [
        {
          "output_type": "execute_result",
          "data": {
            "text/html": [
              "<div>\n",
              "<style scoped>\n",
              "    .dataframe tbody tr th:only-of-type {\n",
              "        vertical-align: middle;\n",
              "    }\n",
              "\n",
              "    .dataframe tbody tr th {\n",
              "        vertical-align: top;\n",
              "    }\n",
              "\n",
              "    .dataframe thead th {\n",
              "        text-align: right;\n",
              "    }\n",
              "</style>\n",
              "<table border=\"1\" class=\"dataframe\">\n",
              "  <thead>\n",
              "    <tr style=\"text-align: right;\">\n",
              "      <th></th>\n",
              "      <th>storenum</th>\n",
              "      <th>conversion</th>\n",
              "      <th>st</th>\n",
              "      <th>county</th>\n",
              "      <th>ZIPCODE</th>\n",
              "      <th>LAT</th>\n",
              "      <th>LON</th>\n",
              "      <th>MONTH</th>\n",
              "      <th>DAY</th>\n",
              "      <th>YEAR</th>\n",
              "    </tr>\n",
              "  </thead>\n",
              "  <tbody>\n",
              "    <tr>\n",
              "      <th>count</th>\n",
              "      <td>2992.000000</td>\n",
              "      <td>1946.000000</td>\n",
              "      <td>2992.000000</td>\n",
              "      <td>2992.000000</td>\n",
              "      <td>2992.000000</td>\n",
              "      <td>2992.000000</td>\n",
              "      <td>2992.000000</td>\n",
              "      <td>2992.000000</td>\n",
              "      <td>2992.000000</td>\n",
              "      <td>2992.000000</td>\n",
              "    </tr>\n",
              "    <tr>\n",
              "      <th>mean</th>\n",
              "      <td>1809.838235</td>\n",
              "      <td>0.800103</td>\n",
              "      <td>28.956217</td>\n",
              "      <td>101.030414</td>\n",
              "      <td>54077.080882</td>\n",
              "      <td>36.803160</td>\n",
              "      <td>-91.582521</td>\n",
              "      <td>6.432487</td>\n",
              "      <td>15.108623</td>\n",
              "      <td>1990.793783</td>\n",
              "    </tr>\n",
              "    <tr>\n",
              "      <th>std</th>\n",
              "      <td>1362.727189</td>\n",
              "      <td>0.400026</td>\n",
              "      <td>16.061538</td>\n",
              "      <td>105.534836</td>\n",
              "      <td>23652.129967</td>\n",
              "      <td>4.818443</td>\n",
              "      <td>12.051487</td>\n",
              "      <td>3.492092</td>\n",
              "      <td>10.999463</td>\n",
              "      <td>8.572069</td>\n",
              "    </tr>\n",
              "    <tr>\n",
              "      <th>min</th>\n",
              "      <td>1.000000</td>\n",
              "      <td>0.000000</td>\n",
              "      <td>1.000000</td>\n",
              "      <td>1.000000</td>\n",
              "      <td>10547.000000</td>\n",
              "      <td>25.431506</td>\n",
              "      <td>-124.210860</td>\n",
              "      <td>1.000000</td>\n",
              "      <td>1.000000</td>\n",
              "      <td>1962.000000</td>\n",
              "    </tr>\n",
              "    <tr>\n",
              "      <th>25%</th>\n",
              "      <td>777.750000</td>\n",
              "      <td>1.000000</td>\n",
              "      <td>16.000000</td>\n",
              "      <td>37.000000</td>\n",
              "      <td>33522.000000</td>\n",
              "      <td>33.415925</td>\n",
              "      <td>-96.681565</td>\n",
              "      <td>3.000000</td>\n",
              "      <td>3.000000</td>\n",
              "      <td>1985.000000</td>\n",
              "    </tr>\n",
              "    <tr>\n",
              "      <th>50%</th>\n",
              "      <td>1540.500000</td>\n",
              "      <td>1.000000</td>\n",
              "      <td>29.000000</td>\n",
              "      <td>77.000000</td>\n",
              "      <td>52648.000000</td>\n",
              "      <td>36.753618</td>\n",
              "      <td>-88.955250</td>\n",
              "      <td>7.000000</td>\n",
              "      <td>16.000000</td>\n",
              "      <td>1990.000000</td>\n",
              "    </tr>\n",
              "    <tr>\n",
              "      <th>75%</th>\n",
              "      <td>2534.250000</td>\n",
              "      <td>1.000000</td>\n",
              "      <td>45.000000</td>\n",
              "      <td>125.000000</td>\n",
              "      <td>75061.500000</td>\n",
              "      <td>40.409729</td>\n",
              "      <td>-82.619280</td>\n",
              "      <td>10.000000</td>\n",
              "      <td>26.000000</td>\n",
              "      <td>1998.000000</td>\n",
              "    </tr>\n",
              "    <tr>\n",
              "      <th>max</th>\n",
              "      <td>5498.000000</td>\n",
              "      <td>1.000000</td>\n",
              "      <td>56.000000</td>\n",
              "      <td>840.000000</td>\n",
              "      <td>99352.000000</td>\n",
              "      <td>48.759079</td>\n",
              "      <td>-72.637078</td>\n",
              "      <td>12.000000</td>\n",
              "      <td>31.000000</td>\n",
              "      <td>2006.000000</td>\n",
              "    </tr>\n",
              "  </tbody>\n",
              "</table>\n",
              "</div>"
            ],
            "text/plain": [
              "          storenum   conversion           st       county       ZIPCODE  \\\n",
              "count  2992.000000  1946.000000  2992.000000  2992.000000   2992.000000   \n",
              "mean   1809.838235     0.800103    28.956217   101.030414  54077.080882   \n",
              "std    1362.727189     0.400026    16.061538   105.534836  23652.129967   \n",
              "min       1.000000     0.000000     1.000000     1.000000  10547.000000   \n",
              "25%     777.750000     1.000000    16.000000    37.000000  33522.000000   \n",
              "50%    1540.500000     1.000000    29.000000    77.000000  52648.000000   \n",
              "75%    2534.250000     1.000000    45.000000   125.000000  75061.500000   \n",
              "max    5498.000000     1.000000    56.000000   840.000000  99352.000000   \n",
              "\n",
              "               LAT          LON        MONTH          DAY         YEAR  \n",
              "count  2992.000000  2992.000000  2992.000000  2992.000000  2992.000000  \n",
              "mean     36.803160   -91.582521     6.432487    15.108623  1990.793783  \n",
              "std       4.818443    12.051487     3.492092    10.999463     8.572069  \n",
              "min      25.431506  -124.210860     1.000000     1.000000  1962.000000  \n",
              "25%      33.415925   -96.681565     3.000000     3.000000  1985.000000  \n",
              "50%      36.753618   -88.955250     7.000000    16.000000  1990.000000  \n",
              "75%      40.409729   -82.619280    10.000000    26.000000  1998.000000  \n",
              "max      48.759079   -72.637078    12.000000    31.000000  2006.000000  "
            ]
          },
          "metadata": {
            "tags": []
          },
          "execution_count": 2
        }
      ]
    },
    {
      "metadata": {
        "id": "Sa4Us-u8aJq0",
        "colab_type": "code",
        "colab": {}
      },
      "cell_type": "code",
      "source": [
        ""
      ],
      "execution_count": 0,
      "outputs": []
    }
  ]
}