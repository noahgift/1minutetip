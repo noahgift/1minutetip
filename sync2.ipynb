{
  "nbformat": 4,
  "nbformat_minor": 0,
  "metadata": {
    "colab": {
      "name": "sync2.ipynb",
      "version": "0.3.2",
      "provenance": [],
      "include_colab_link": true
    },
    "kernelspec": {
      "name": "python3",
      "display_name": "Python 3"
    }
  },
  "cells": [
    {
      "cell_type": "markdown",
      "metadata": {
        "id": "view-in-github",
        "colab_type": "text"
      },
      "source": [
        "<a href=\"https://colab.research.google.com/github/noahgift/1minutetip/blob/master/sync2.ipynb\" target=\"_parent\"><img src=\"https://colab.research.google.com/assets/colab-badge.svg\" alt=\"Open In Colab\"/></a>"
      ]
    },
    {
      "cell_type": "markdown",
      "metadata": {
        "id": "9zwgdlpSqBFM",
        "colab_type": "text"
      },
      "source": [
        "# Project"
      ]
    },
    {
      "cell_type": "markdown",
      "metadata": {
        "id": "Z3yiWVAuqFUB",
        "colab_type": "text"
      },
      "source": [
        "## Ingest"
      ]
    },
    {
      "cell_type": "markdown",
      "metadata": {
        "id": "C_t4acy6qLby",
        "colab_type": "text"
      },
      "source": [
        ""
      ]
    },
    {
      "cell_type": "markdown",
      "metadata": {
        "id": "bhfyQAHtrkqm",
        "colab_type": "text"
      },
      "source": [
        "### inital imports"
      ]
    },
    {
      "cell_type": "code",
      "metadata": {
        "id": "zgpQPw5Yrnb4",
        "colab_type": "code",
        "colab": {}
      },
      "source": [
        "import pandas as pd\n",
        "import numpy as np\n",
        "import seaborn as sns"
      ],
      "execution_count": 0,
      "outputs": []
    },
    {
      "cell_type": "code",
      "metadata": {
        "id": "MemlV3rGqsBc",
        "colab_type": "code",
        "colab": {
          "base_uri": "https://localhost:8080/",
          "height": 35
        },
        "outputId": "6fe9315d-859e-4e12-94ae-7661d433fa35"
      },
      "source": [
        "!pip install -q pandas"
      ],
      "execution_count": 3,
      "outputs": [
        {
          "output_type": "stream",
          "text": [
            "\u001b[K     |████████████████████████████████| 10.1MB 2.8MB/s \n",
            "\u001b[?25h"
          ],
          "name": "stdout"
        }
      ]
    },
    {
      "cell_type": "code",
      "metadata": {
        "id": "gbVXxnUOqenf",
        "colab_type": "code",
        "colab": {
          "base_uri": "https://localhost:8080/",
          "height": 69
        },
        "outputId": "434c95d6-a1e6-4755-faa7-7c4d12cda0c4"
      },
      "source": [
        "!ls -l"
      ],
      "execution_count": 1,
      "outputs": [
        {
          "output_type": "stream",
          "text": [
            "total 9220\n",
            "drwxr-xr-x 1 root root    4096 May  8 16:22 sample_data\n",
            "-rw-r--r-- 1 root root 9437184 May 11 02:12 Zip_Zhvi_SingleFamilyResidence_2018.csv\n"
          ],
          "name": "stdout"
        }
      ]
    },
    {
      "cell_type": "markdown",
      "metadata": {
        "id": "qCv9cCRpq3hT",
        "colab_type": "text"
      },
      "source": [
        "Please upload \n",
        "\n",
        "```\n",
        "\"Zip_Zhvi_SingleFamilyResidence_2018.csv\"\n",
        "```\n",
        "\n"
      ]
    },
    {
      "cell_type": "code",
      "metadata": {
        "id": "ecyqQiJxqjBg",
        "colab_type": "code",
        "colab": {
          "base_uri": "https://localhost:8080/",
          "height": 263
        },
        "outputId": "3413bb65-6a9d-41cb-a99d-ccb188da9014"
      },
      "source": [
        "import pandas as pd\n",
        "df = pd.read_csv(\"Zip_Zhvi_SingleFamilyResidence_2018.csv\")\n",
        "df.head(2)"
      ],
      "execution_count": 4,
      "outputs": [
        {
          "output_type": "execute_result",
          "data": {
            "text/html": [
              "<div>\n",
              "<style scoped>\n",
              "    .dataframe tbody tr th:only-of-type {\n",
              "        vertical-align: middle;\n",
              "    }\n",
              "\n",
              "    .dataframe tbody tr th {\n",
              "        vertical-align: top;\n",
              "    }\n",
              "\n",
              "    .dataframe thead th {\n",
              "        text-align: right;\n",
              "    }\n",
              "</style>\n",
              "<table border=\"1\" class=\"dataframe\">\n",
              "  <thead>\n",
              "    <tr style=\"text-align: right;\">\n",
              "      <th></th>\n",
              "      <th>RegionID</th>\n",
              "      <th>RegionName</th>\n",
              "      <th>City</th>\n",
              "      <th>State</th>\n",
              "      <th>Metro</th>\n",
              "      <th>CountyName</th>\n",
              "      <th>SizeRank</th>\n",
              "      <th>1996-04</th>\n",
              "      <th>1996-05</th>\n",
              "      <th>1996-06</th>\n",
              "      <th>...</th>\n",
              "      <th>2018-03</th>\n",
              "      <th>2018-04</th>\n",
              "      <th>2018-05</th>\n",
              "      <th>2018-06</th>\n",
              "      <th>2018-07</th>\n",
              "      <th>2018-08</th>\n",
              "      <th>2018-09</th>\n",
              "      <th>2018-10</th>\n",
              "      <th>2018-11</th>\n",
              "      <th>2018-12</th>\n",
              "    </tr>\n",
              "  </thead>\n",
              "  <tbody>\n",
              "    <tr>\n",
              "      <th>0</th>\n",
              "      <td>84654</td>\n",
              "      <td>60657</td>\n",
              "      <td>Chicago</td>\n",
              "      <td>IL</td>\n",
              "      <td>Chicago-Naperville-Elgin</td>\n",
              "      <td>Cook County</td>\n",
              "      <td>1</td>\n",
              "      <td>334200.0</td>\n",
              "      <td>335400.0</td>\n",
              "      <td>336500.0</td>\n",
              "      <td>...</td>\n",
              "      <td>1037400</td>\n",
              "      <td>1038700</td>\n",
              "      <td>1041500</td>\n",
              "      <td>1042800</td>\n",
              "      <td>1042900</td>\n",
              "      <td>1044400</td>\n",
              "      <td>1047800</td>\n",
              "      <td>1049700</td>\n",
              "      <td>1048300</td>\n",
              "      <td>1047900</td>\n",
              "    </tr>\n",
              "    <tr>\n",
              "      <th>1</th>\n",
              "      <td>91982</td>\n",
              "      <td>77494</td>\n",
              "      <td>Katy</td>\n",
              "      <td>TX</td>\n",
              "      <td>Houston-The Woodlands-Sugar Land</td>\n",
              "      <td>Harris County</td>\n",
              "      <td>2</td>\n",
              "      <td>210400.0</td>\n",
              "      <td>212200.0</td>\n",
              "      <td>212200.0</td>\n",
              "      <td>...</td>\n",
              "      <td>330400</td>\n",
              "      <td>332700</td>\n",
              "      <td>334500</td>\n",
              "      <td>335900</td>\n",
              "      <td>337000</td>\n",
              "      <td>338300</td>\n",
              "      <td>338400</td>\n",
              "      <td>336900</td>\n",
              "      <td>336000</td>\n",
              "      <td>336500</td>\n",
              "    </tr>\n",
              "  </tbody>\n",
              "</table>\n",
              "<p>2 rows × 280 columns</p>\n",
              "</div>"
            ],
            "text/plain": [
              "   RegionID  RegionName     City State                             Metro  \\\n",
              "0     84654       60657  Chicago    IL          Chicago-Naperville-Elgin   \n",
              "1     91982       77494     Katy    TX  Houston-The Woodlands-Sugar Land   \n",
              "\n",
              "      CountyName  SizeRank   1996-04   1996-05   1996-06  ...  2018-03  \\\n",
              "0    Cook County         1  334200.0  335400.0  336500.0  ...  1037400   \n",
              "1  Harris County         2  210400.0  212200.0  212200.0  ...   330400   \n",
              "\n",
              "   2018-04  2018-05  2018-06  2018-07  2018-08  2018-09  2018-10  2018-11  \\\n",
              "0  1038700  1041500  1042800  1042900  1044400  1047800  1049700  1048300   \n",
              "1   332700   334500   335900   337000   338300   338400   336900   336000   \n",
              "\n",
              "   2018-12  \n",
              "0  1047900  \n",
              "1   336500  \n",
              "\n",
              "[2 rows x 280 columns]"
            ]
          },
          "metadata": {
            "tags": []
          },
          "execution_count": 4
        }
      ]
    },
    {
      "cell_type": "code",
      "metadata": {
        "id": "Z5365dNuq_MI",
        "colab_type": "code",
        "colab": {}
      },
      "source": [
        "df = pd.read_csv(\"https://raw.githubusercontent.com/noahgift/real_estate_ml/master/data/Zip_Zhvi_SingleFamilyResidence.csv\")"
      ],
      "execution_count": 0,
      "outputs": []
    },
    {
      "cell_type": "code",
      "metadata": {
        "id": "_fy3dQccrWWT",
        "colab_type": "code",
        "colab": {
          "base_uri": "https://localhost:8080/",
          "height": 177
        },
        "outputId": "5c1bd8be-2b64-4d4b-876e-6d87970a8899"
      },
      "source": [
        "df.head(2)"
      ],
      "execution_count": 6,
      "outputs": [
        {
          "output_type": "execute_result",
          "data": {
            "text/html": [
              "<div>\n",
              "<style scoped>\n",
              "    .dataframe tbody tr th:only-of-type {\n",
              "        vertical-align: middle;\n",
              "    }\n",
              "\n",
              "    .dataframe tbody tr th {\n",
              "        vertical-align: top;\n",
              "    }\n",
              "\n",
              "    .dataframe thead th {\n",
              "        text-align: right;\n",
              "    }\n",
              "</style>\n",
              "<table border=\"1\" class=\"dataframe\">\n",
              "  <thead>\n",
              "    <tr style=\"text-align: right;\">\n",
              "      <th></th>\n",
              "      <th>RegionID</th>\n",
              "      <th>RegionName</th>\n",
              "      <th>City</th>\n",
              "      <th>State</th>\n",
              "      <th>Metro</th>\n",
              "      <th>CountyName</th>\n",
              "      <th>SizeRank</th>\n",
              "      <th>1996-04</th>\n",
              "      <th>1996-05</th>\n",
              "      <th>1996-06</th>\n",
              "      <th>...</th>\n",
              "      <th>2016-12</th>\n",
              "      <th>2017-01</th>\n",
              "      <th>2017-02</th>\n",
              "      <th>2017-03</th>\n",
              "      <th>2017-04</th>\n",
              "      <th>2017-05</th>\n",
              "      <th>2017-06</th>\n",
              "      <th>2017-07</th>\n",
              "      <th>2017-08</th>\n",
              "      <th>2017-09</th>\n",
              "    </tr>\n",
              "  </thead>\n",
              "  <tbody>\n",
              "    <tr>\n",
              "      <th>0</th>\n",
              "      <td>84654.0</td>\n",
              "      <td>60657.0</td>\n",
              "      <td>Chicago</td>\n",
              "      <td>IL</td>\n",
              "      <td>Chicago</td>\n",
              "      <td>Cook</td>\n",
              "      <td>1.0</td>\n",
              "      <td>420800.0</td>\n",
              "      <td>423500.0</td>\n",
              "      <td>426200.0</td>\n",
              "      <td>...</td>\n",
              "      <td>1097900.0</td>\n",
              "      <td>1098300.0</td>\n",
              "      <td>1094700.0</td>\n",
              "      <td>1088500.0</td>\n",
              "      <td>1081200.0</td>\n",
              "      <td>1073900.0</td>\n",
              "      <td>1064300.0</td>\n",
              "      <td>1054300.0</td>\n",
              "      <td>1048500.0</td>\n",
              "      <td>1044400.0</td>\n",
              "    </tr>\n",
              "    <tr>\n",
              "      <th>1</th>\n",
              "      <td>84616.0</td>\n",
              "      <td>60614.0</td>\n",
              "      <td>Chicago</td>\n",
              "      <td>IL</td>\n",
              "      <td>Chicago</td>\n",
              "      <td>Cook</td>\n",
              "      <td>2.0</td>\n",
              "      <td>542400.0</td>\n",
              "      <td>546700.0</td>\n",
              "      <td>551700.0</td>\n",
              "      <td>...</td>\n",
              "      <td>1522800.0</td>\n",
              "      <td>1525900.0</td>\n",
              "      <td>1525000.0</td>\n",
              "      <td>1526100.0</td>\n",
              "      <td>1528700.0</td>\n",
              "      <td>1526700.0</td>\n",
              "      <td>1518900.0</td>\n",
              "      <td>1515800.0</td>\n",
              "      <td>1519900.0</td>\n",
              "      <td>1525300.0</td>\n",
              "    </tr>\n",
              "  </tbody>\n",
              "</table>\n",
              "<p>2 rows × 265 columns</p>\n",
              "</div>"
            ],
            "text/plain": [
              "   RegionID  RegionName     City State    Metro CountyName  SizeRank  \\\n",
              "0   84654.0     60657.0  Chicago    IL  Chicago       Cook       1.0   \n",
              "1   84616.0     60614.0  Chicago    IL  Chicago       Cook       2.0   \n",
              "\n",
              "    1996-04   1996-05   1996-06  ...    2016-12    2017-01    2017-02  \\\n",
              "0  420800.0  423500.0  426200.0  ...  1097900.0  1098300.0  1094700.0   \n",
              "1  542400.0  546700.0  551700.0  ...  1522800.0  1525900.0  1525000.0   \n",
              "\n",
              "     2017-03    2017-04    2017-05    2017-06    2017-07    2017-08    2017-09  \n",
              "0  1088500.0  1081200.0  1073900.0  1064300.0  1054300.0  1048500.0  1044400.0  \n",
              "1  1526100.0  1528700.0  1526700.0  1518900.0  1515800.0  1519900.0  1525300.0  \n",
              "\n",
              "[2 rows x 265 columns]"
            ]
          },
          "metadata": {
            "tags": []
          },
          "execution_count": 6
        }
      ]
    },
    {
      "cell_type": "markdown",
      "metadata": {
        "id": "HlctmntdqGpV",
        "colab_type": "text"
      },
      "source": [
        "## EDA"
      ]
    },
    {
      "cell_type": "markdown",
      "metadata": {
        "id": "DksDJtYnqL2D",
        "colab_type": "text"
      },
      "source": [
        ""
      ]
    },
    {
      "cell_type": "markdown",
      "metadata": {
        "id": "t1Qkai7hqH49",
        "colab_type": "text"
      },
      "source": [
        "## Modeling"
      ]
    },
    {
      "cell_type": "markdown",
      "metadata": {
        "id": "fSCnvi22qMdy",
        "colab_type": "text"
      },
      "source": [
        ""
      ]
    },
    {
      "cell_type": "markdown",
      "metadata": {
        "id": "-7D1c8hVqJTJ",
        "colab_type": "text"
      },
      "source": [
        "## Conclusion"
      ]
    },
    {
      "cell_type": "code",
      "metadata": {
        "id": "dqt2nj5Rp8zT",
        "colab_type": "code",
        "colab": {}
      },
      "source": [
        ""
      ],
      "execution_count": 0,
      "outputs": []
    },
    {
      "cell_type": "markdown",
      "metadata": {
        "id": "7N-fr65JqBRB",
        "colab_type": "text"
      },
      "source": [
        ""
      ]
    }
  ]
}