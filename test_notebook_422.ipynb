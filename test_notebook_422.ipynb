{
  "nbformat": 4,
  "nbformat_minor": 0,
  "metadata": {
    "colab": {
      "name": "test_notebook_422.ipynb",
      "version": "0.3.2",
      "provenance": [],
      "include_colab_link": true
    },
    "kernelspec": {
      "name": "python3",
      "display_name": "Python 3"
    }
  },
  "cells": [
    {
      "cell_type": "markdown",
      "metadata": {
        "id": "view-in-github",
        "colab_type": "text"
      },
      "source": [
        "<a href=\"https://colab.research.google.com/github/noahgift/1minutetip/blob/master/test_notebook_422.ipynb\" target=\"_parent\"><img src=\"https://colab.research.google.com/assets/colab-badge.svg\" alt=\"Open In Colab\"/></a>"
      ]
    },
    {
      "metadata": {
        "id": "2vJfVS3jKnEZ",
        "colab_type": "text"
      },
      "cell_type": "markdown",
      "source": [
        "### There are four phases\n",
        "\n"
      ]
    },
    {
      "metadata": {
        "id": "zZ8vjTr_KpWm",
        "colab_type": "text"
      },
      "cell_type": "markdown",
      "source": [
        "\n",
        "this is where I explain things"
      ]
    },
    {
      "metadata": {
        "id": "JSSSzuC_Kj7i",
        "colab_type": "code",
        "colab": {}
      },
      "cell_type": "code",
      "source": [
        "import pandas as pd\n",
        "df = pd.DataFrame()"
      ],
      "execution_count": 0,
      "outputs": []
    },
    {
      "metadata": {
        "id": "LpXXfc0zKuI-",
        "colab_type": "code",
        "colab": {}
      },
      "cell_type": "code",
      "source": [
        ""
      ],
      "execution_count": 0,
      "outputs": []
    },
    {
      "metadata": {
        "id": "ue9EhQUSMOSD",
        "colab_type": "text"
      },
      "cell_type": "markdown",
      "source": [
        "#### Ingestion"
      ]
    },
    {
      "metadata": {
        "id": "Bvtw4QemMQL4",
        "colab_type": "code",
        "colab": {}
      },
      "cell_type": "code",
      "source": [
        ""
      ],
      "execution_count": 0,
      "outputs": []
    },
    {
      "metadata": {
        "id": "PKDB3ylsMQkT",
        "colab_type": "text"
      },
      "cell_type": "markdown",
      "source": [
        "### EDA "
      ]
    },
    {
      "metadata": {
        "id": "18S2HZikMSGw",
        "colab_type": "code",
        "colab": {}
      },
      "cell_type": "code",
      "source": [
        ""
      ],
      "execution_count": 0,
      "outputs": []
    },
    {
      "metadata": {
        "id": "Bbyx_LHSMSqO",
        "colab_type": "text"
      },
      "cell_type": "markdown",
      "source": [
        "### Modeling"
      ]
    },
    {
      "metadata": {
        "id": "CDcI3_kFMTxQ",
        "colab_type": "code",
        "colab": {}
      },
      "cell_type": "code",
      "source": [
        ""
      ],
      "execution_count": 0,
      "outputs": []
    },
    {
      "metadata": {
        "id": "9LC4LDlEMVP_",
        "colab_type": "text"
      },
      "cell_type": "markdown",
      "source": [
        "### Recommendation"
      ]
    },
    {
      "metadata": {
        "id": "jVKf8sYrMYG6",
        "colab_type": "text"
      },
      "cell_type": "markdown",
      "source": [
        "The model was able to predict....X\n",
        "\n",
        "This graph shows the actual vs predicted\n",
        "\n",
        "Recommendation to management is Y"
      ]
    },
    {
      "metadata": {
        "id": "r_oGnPXUMXYZ",
        "colab_type": "code",
        "colab": {}
      },
      "cell_type": "code",
      "source": [
        ""
      ],
      "execution_count": 0,
      "outputs": []
    }
  ]
}